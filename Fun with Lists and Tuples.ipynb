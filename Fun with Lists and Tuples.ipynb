{
 "cells": [
  {
   "cell_type": "markdown",
   "metadata": {},
   "source": [
    "Write a Python program to get a list, sorted in increasing order by the last element in each tuple from a given list of non-empty tuples\n",
    "\n",
    "\n",
    "\n",
    "Sample List : [(2, 5), (1, 2), (4, 4), (2, 3), (2, 1)]\n",
    "\n",
    "Expected Result : [(2, 1), (1, 2), (2, 3), (4, 4), (2, 5)]\n",
    "\n"
   ]
  },
  {
   "cell_type": "markdown",
   "metadata": {},
   "source": [
    "."
   ]
  },
  {
   "cell_type": "code",
   "execution_count": 33,
   "metadata": {},
   "outputs": [
    {
     "name": "stdout",
     "output_type": "stream",
     "text": [
      "Ensure spaces between values inside a tuple \n",
      "enter no of tuples : 5\n",
      "2 5 \n",
      "1 2\n",
      "4 4\n",
      "2 3\n",
      "2 1\n",
      "Original list [(2, 5), (1, 2), (4, 4), (2, 3), (2, 1)]\n",
      "sorted List [(2, 1), (1, 2), (2, 3), (4, 4), (2, 5)]\n"
     ]
    }
   ],
   "source": [
    "a = list(tuple(map(int,input().split())) \n",
    "for r in range(int(input('Ensure spaces between values inside a tuple \\nenter no of tuples : '))))\n",
    "l=[]\n",
    "print(\"Original list\", a)\n",
    "for j in range (1,len(a)) :\n",
    "    for i in range(len(a)-j) :\n",
    "        if a[i][1]>a[i+1][1] :\n",
    "            temp=a[i]\n",
    "            a[i]=a[i+1]\n",
    "            a[i+1]=temp\n",
    "for i in range(len(a)) :\n",
    "    l.append(a[i])\n",
    "print(\"sorted List\", l)"
   ]
  }
 ],
 "metadata": {
  "kernelspec": {
   "display_name": "Python 3",
   "language": "python",
   "name": "python3"
  },
  "language_info": {
   "codemirror_mode": {
    "name": "ipython",
    "version": 3
   },
   "file_extension": ".py",
   "mimetype": "text/x-python",
   "name": "python",
   "nbconvert_exporter": "python",
   "pygments_lexer": "ipython3",
   "version": "3.8.5"
  }
 },
 "nbformat": 4,
 "nbformat_minor": 4
}
